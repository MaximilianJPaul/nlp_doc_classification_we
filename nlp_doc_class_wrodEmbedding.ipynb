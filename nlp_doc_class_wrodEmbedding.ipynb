{
 "cells": [
  {
   "cell_type": "markdown",
   "metadata": {},
   "source": [
    "<a name=\"section-taskA\"></a><h2 style=\"color:rgb(0,120,170)\">1. Words Similarity and Nearest Neighbors</h2>"
   ]
  },
  {
   "cell_type": "code",
   "execution_count": 312,
   "metadata": {},
   "outputs": [],
   "source": [
    "import numpy as np\n",
    "import pandas as pd\n",
    "from IPython.display import display, HTML\n",
    "from nltk.tokenize import RegexpTokenizer\n",
    "from nltk.corpus import stopwords\n",
    "from nltk.stem.porter import PorterStemmer\n",
    "from collections import Counter\n",
    "import matplotlib.pyplot as plt\n",
    "\n",
    "from sklearn.svm import SVC\n",
    "from sklearn import metrics\n",
    "from sklearn.linear_model import LogisticRegression"
   ]
  },
  {
   "cell_type": "markdown",
   "metadata": {},
   "source": [
    "### Loading a word embedding (WE) model"
   ]
  },
  {
   "cell_type": "markdown",
   "metadata": {},
   "source": [
    "Pre-trained word embedding model: **GloVe** <br>\n",
    "Kind: **\"Common Crawl - glove.840B.300d.zip\"**"
   ]
  },
  {
   "cell_type": "code",
   "execution_count": 37,
   "metadata": {},
   "outputs": [],
   "source": [
    "we = pd.read_csv('./glove.840B.300d.txt', sep=\" \", quoting=3, header=None, index_col=0)\n",
    "glove = {key: val.values for key, val in we.T.items()}"
   ]
  },
  {
   "cell_type": "markdown",
   "metadata": {},
   "source": [
    "### Calculating word-to-word similarities"
   ]
  },
  {
   "cell_type": "markdown",
   "metadata": {},
   "source": [
    "Source words: \n",
    "\n",
    "1. **Revolutionary**\n",
    "2. **Sculpture**\n",
    "3. **Vain**\n",
    "4. **Empirical**\n",
    "5. **Gravity**\n",
    "\n",
    "\n",
    "Target Words:\n",
    "\n",
    "- **Revolutionary**: \"radical\", \"revolution\", \"rebel\", \"independence\", \"subversive\", \"politics\"\n",
    "- **Sculpture**: \"sculpt\", \"sculptor\", \"statue\", \"art\", \"carving\", \"museum\"\n",
    "- **Vain**: \"futile\", \"fruitless\", \"conceited\", \"bootless\", \"egotistic\", \"swollen\"\n",
    "- **Empirical**: \"empiric\", \"experimental\", \"observational\", \"scientific\", \"subjective\", \"verifiable\"\n",
    "- **Gravity**: \"gravitation\", \"mass\", \"weight\", \"force\", \"energy\", \"universe\""
   ]
  },
  {
   "cell_type": "code",
   "execution_count": 82,
   "metadata": {},
   "outputs": [],
   "source": [
    "source_words = [\"revolutionary\", \"sculpture\", \"vain\", \"empirical\", \"gravity\"]"
   ]
  },
  {
   "cell_type": "code",
   "execution_count": 83,
   "metadata": {},
   "outputs": [],
   "source": [
    "data = np.array([[\"radical\", \"revolution\", \"rebel\", \"independence\", \"subversive\", \"politics\"],\n",
    "        [\"sculpt\", \"sculptor\", \"statue\", \"art\", \"carving\", \"museum\"],\n",
    "        [\"futile\", \"fruitless\", \"conceited\", \"bootless\", \"egotistic\", \"swollen\"],\n",
    "        [\"empiric\", \"experimental\", \"observational\", \"scientific\", \"subjective\", \"verifiable\"],\n",
    "        [\"gravitation\", \"mass\", \"weight\", \"force\", \"energy\", \"universe\"]]).T"
   ]
  },
  {
   "cell_type": "code",
   "execution_count": 84,
   "metadata": {},
   "outputs": [
    {
     "data": {
      "text/html": [
       "<div>\n",
       "<style scoped>\n",
       "    .dataframe tbody tr th:only-of-type {\n",
       "        vertical-align: middle;\n",
       "    }\n",
       "\n",
       "    .dataframe tbody tr th {\n",
       "        vertical-align: top;\n",
       "    }\n",
       "\n",
       "    .dataframe thead th {\n",
       "        text-align: right;\n",
       "    }\n",
       "</style>\n",
       "<table border=\"1\" class=\"dataframe\">\n",
       "  <thead>\n",
       "    <tr style=\"text-align: right;\">\n",
       "      <th></th>\n",
       "      <th>revolutionary</th>\n",
       "      <th>sculpture</th>\n",
       "      <th>vain</th>\n",
       "      <th>empirical</th>\n",
       "      <th>gravity</th>\n",
       "    </tr>\n",
       "  </thead>\n",
       "  <tbody>\n",
       "    <tr>\n",
       "      <th>0</th>\n",
       "      <td>radical</td>\n",
       "      <td>sculpt</td>\n",
       "      <td>futile</td>\n",
       "      <td>empiric</td>\n",
       "      <td>gravitation</td>\n",
       "    </tr>\n",
       "    <tr>\n",
       "      <th>1</th>\n",
       "      <td>revolution</td>\n",
       "      <td>sculptor</td>\n",
       "      <td>fruitless</td>\n",
       "      <td>experimental</td>\n",
       "      <td>mass</td>\n",
       "    </tr>\n",
       "    <tr>\n",
       "      <th>2</th>\n",
       "      <td>rebel</td>\n",
       "      <td>statue</td>\n",
       "      <td>conceited</td>\n",
       "      <td>observational</td>\n",
       "      <td>weight</td>\n",
       "    </tr>\n",
       "    <tr>\n",
       "      <th>3</th>\n",
       "      <td>independence</td>\n",
       "      <td>art</td>\n",
       "      <td>bootless</td>\n",
       "      <td>scientific</td>\n",
       "      <td>force</td>\n",
       "    </tr>\n",
       "    <tr>\n",
       "      <th>4</th>\n",
       "      <td>subversive</td>\n",
       "      <td>carving</td>\n",
       "      <td>egotistic</td>\n",
       "      <td>subjective</td>\n",
       "      <td>energy</td>\n",
       "    </tr>\n",
       "    <tr>\n",
       "      <th>5</th>\n",
       "      <td>politics</td>\n",
       "      <td>museum</td>\n",
       "      <td>swollen</td>\n",
       "      <td>verifiable</td>\n",
       "      <td>universe</td>\n",
       "    </tr>\n",
       "  </tbody>\n",
       "</table>\n",
       "</div>"
      ],
      "text/plain": [
       "  revolutionary sculpture       vain      empirical      gravity\n",
       "0       radical    sculpt     futile        empiric  gravitation\n",
       "1    revolution  sculptor  fruitless   experimental         mass\n",
       "2         rebel    statue  conceited  observational       weight\n",
       "3  independence       art   bootless     scientific        force\n",
       "4    subversive   carving  egotistic     subjective       energy\n",
       "5      politics    museum    swollen     verifiable     universe"
      ]
     },
     "execution_count": 84,
     "metadata": {},
     "output_type": "execute_result"
    }
   ],
   "source": [
    "table = pd.DataFrame(data, columns=source_words)\n",
    "table"
   ]
  },
  {
   "cell_type": "markdown",
   "metadata": {},
   "source": [
    "- **Implementation**: *cosine_similarity*"
   ]
  },
  {
   "cell_type": "code",
   "execution_count": 85,
   "metadata": {},
   "outputs": [],
   "source": [
    "def cosine_similarity(vec1, vec2):\n",
    "    return np.dot(vec1, vec2) / (np.linalg.norm(vec1) * np.linalg.norm(vec2))"
   ]
  },
  {
   "cell_type": "code",
   "execution_count": 86,
   "metadata": {},
   "outputs": [],
   "source": [
    "def calc(word_em, df, func):\n",
    "    table = []\n",
    "    \n",
    "    for source_word in df.columns:\n",
    "        we_value = word_em[source_word]\n",
    "        similarity = []\n",
    "        for word in df[source_word].values:\n",
    "            word_value = word_em[word]\n",
    "            cos_sim = func(we_value, word_value)\n",
    "            similarity.append(cos_sim)\n",
    "        \n",
    "        table.append(similarity)\n",
    "    \n",
    "    table = np.array(table).T\n",
    "    df_res = pd.DataFrame(table, columns=df.columns)\n",
    "    return df_res    "
   ]
  },
  {
   "cell_type": "code",
   "execution_count": 87,
   "metadata": {},
   "outputs": [],
   "source": [
    "report = calc(glove, table, cosine_similarity)"
   ]
  },
  {
   "cell_type": "markdown",
   "metadata": {},
   "source": [
    "- **Reporting and observations**"
   ]
  },
  {
   "cell_type": "code",
   "execution_count": 90,
   "metadata": {},
   "outputs": [
    {
     "data": {
      "text/html": [
       "<style>\n",
       ".output {\n",
       "    flex-direction: row;\n",
       "}\n",
       "</style>"
      ],
      "text/plain": [
       "<IPython.core.display.HTML object>"
      ]
     },
     "execution_count": 90,
     "metadata": {},
     "output_type": "execute_result"
    }
   ],
   "source": [
    "# Auxiliary functionality to be able to print pandas DataFrames side by side\n",
    "\n",
    "CSS = \"\"\"\n",
    ".output {\n",
    "    flex-direction: row;\n",
    "}\n",
    "\"\"\"\n",
    "\n",
    "HTML('<style>{}</style>'.format(CSS))"
   ]
  },
  {
   "cell_type": "code",
   "execution_count": 91,
   "metadata": {},
   "outputs": [
    {
     "data": {
      "text/html": [
       "<div>\n",
       "<style scoped>\n",
       "    .dataframe tbody tr th:only-of-type {\n",
       "        vertical-align: middle;\n",
       "    }\n",
       "\n",
       "    .dataframe tbody tr th {\n",
       "        vertical-align: top;\n",
       "    }\n",
       "\n",
       "    .dataframe thead th {\n",
       "        text-align: right;\n",
       "    }\n",
       "</style>\n",
       "<table border=\"1\" class=\"dataframe\">\n",
       "  <thead>\n",
       "    <tr style=\"text-align: right;\">\n",
       "      <th></th>\n",
       "      <th>revolutionary</th>\n",
       "      <th>sculpture</th>\n",
       "      <th>vain</th>\n",
       "      <th>empirical</th>\n",
       "      <th>gravity</th>\n",
       "    </tr>\n",
       "  </thead>\n",
       "  <tbody>\n",
       "    <tr>\n",
       "      <th>0</th>\n",
       "      <td>radical</td>\n",
       "      <td>sculpt</td>\n",
       "      <td>futile</td>\n",
       "      <td>empiric</td>\n",
       "      <td>gravitation</td>\n",
       "    </tr>\n",
       "    <tr>\n",
       "      <th>1</th>\n",
       "      <td>revolution</td>\n",
       "      <td>sculptor</td>\n",
       "      <td>fruitless</td>\n",
       "      <td>experimental</td>\n",
       "      <td>mass</td>\n",
       "    </tr>\n",
       "    <tr>\n",
       "      <th>2</th>\n",
       "      <td>rebel</td>\n",
       "      <td>statue</td>\n",
       "      <td>conceited</td>\n",
       "      <td>observational</td>\n",
       "      <td>weight</td>\n",
       "    </tr>\n",
       "    <tr>\n",
       "      <th>3</th>\n",
       "      <td>independence</td>\n",
       "      <td>art</td>\n",
       "      <td>bootless</td>\n",
       "      <td>scientific</td>\n",
       "      <td>force</td>\n",
       "    </tr>\n",
       "    <tr>\n",
       "      <th>4</th>\n",
       "      <td>subversive</td>\n",
       "      <td>carving</td>\n",
       "      <td>egotistic</td>\n",
       "      <td>subjective</td>\n",
       "      <td>energy</td>\n",
       "    </tr>\n",
       "    <tr>\n",
       "      <th>5</th>\n",
       "      <td>politics</td>\n",
       "      <td>museum</td>\n",
       "      <td>swollen</td>\n",
       "      <td>verifiable</td>\n",
       "      <td>universe</td>\n",
       "    </tr>\n",
       "  </tbody>\n",
       "</table>\n",
       "</div>"
      ],
      "text/plain": [
       "  revolutionary sculpture       vain      empirical      gravity\n",
       "0       radical    sculpt     futile        empiric  gravitation\n",
       "1    revolution  sculptor  fruitless   experimental         mass\n",
       "2         rebel    statue  conceited  observational       weight\n",
       "3  independence       art   bootless     scientific        force\n",
       "4    subversive   carving  egotistic     subjective       energy\n",
       "5      politics    museum    swollen     verifiable     universe"
      ]
     },
     "metadata": {},
     "output_type": "display_data"
    },
    {
     "data": {
      "text/html": [
       "<div>\n",
       "<style scoped>\n",
       "    .dataframe tbody tr th:only-of-type {\n",
       "        vertical-align: middle;\n",
       "    }\n",
       "\n",
       "    .dataframe tbody tr th {\n",
       "        vertical-align: top;\n",
       "    }\n",
       "\n",
       "    .dataframe thead th {\n",
       "        text-align: right;\n",
       "    }\n",
       "</style>\n",
       "<table border=\"1\" class=\"dataframe\">\n",
       "  <thead>\n",
       "    <tr style=\"text-align: right;\">\n",
       "      <th></th>\n",
       "      <th>revolutionary</th>\n",
       "      <th>sculpture</th>\n",
       "      <th>vain</th>\n",
       "      <th>empirical</th>\n",
       "      <th>gravity</th>\n",
       "    </tr>\n",
       "  </thead>\n",
       "  <tbody>\n",
       "    <tr>\n",
       "      <th>0</th>\n",
       "      <td>0.566132</td>\n",
       "      <td>0.407253</td>\n",
       "      <td>0.692408</td>\n",
       "      <td>0.513917</td>\n",
       "      <td>0.595636</td>\n",
       "    </tr>\n",
       "    <tr>\n",
       "      <th>1</th>\n",
       "      <td>0.706289</td>\n",
       "      <td>0.714348</td>\n",
       "      <td>0.604502</td>\n",
       "      <td>0.509318</td>\n",
       "      <td>0.445159</td>\n",
       "    </tr>\n",
       "    <tr>\n",
       "      <th>2</th>\n",
       "      <td>0.379191</td>\n",
       "      <td>0.696140</td>\n",
       "      <td>0.553145</td>\n",
       "      <td>0.623542</td>\n",
       "      <td>0.379074</td>\n",
       "    </tr>\n",
       "    <tr>\n",
       "      <th>3</th>\n",
       "      <td>0.418184</td>\n",
       "      <td>0.705858</td>\n",
       "      <td>0.321128</td>\n",
       "      <td>0.661185</td>\n",
       "      <td>0.459843</td>\n",
       "    </tr>\n",
       "    <tr>\n",
       "      <th>4</th>\n",
       "      <td>0.432523</td>\n",
       "      <td>0.573970</td>\n",
       "      <td>0.439809</td>\n",
       "      <td>0.600500</td>\n",
       "      <td>0.398320</td>\n",
       "    </tr>\n",
       "    <tr>\n",
       "      <th>5</th>\n",
       "      <td>0.331242</td>\n",
       "      <td>0.594622</td>\n",
       "      <td>0.273468</td>\n",
       "      <td>0.478185</td>\n",
       "      <td>0.481906</td>\n",
       "    </tr>\n",
       "  </tbody>\n",
       "</table>\n",
       "</div>"
      ],
      "text/plain": [
       "   revolutionary  sculpture      vain  empirical   gravity\n",
       "0       0.566132   0.407253  0.692408   0.513917  0.595636\n",
       "1       0.706289   0.714348  0.604502   0.509318  0.445159\n",
       "2       0.379191   0.696140  0.553145   0.623542  0.379074\n",
       "3       0.418184   0.705858  0.321128   0.661185  0.459843\n",
       "4       0.432523   0.573970  0.439809   0.600500  0.398320\n",
       "5       0.331242   0.594622  0.273468   0.478185  0.481906"
      ]
     },
     "metadata": {},
     "output_type": "display_data"
    }
   ],
   "source": [
    "display(table)\n",
    "display(report)"
   ]
  },
  {
   "cell_type": "markdown",
   "metadata": {},
   "source": [
    "#### Report"
   ]
  },
  {
   "cell_type": "markdown",
   "metadata": {},
   "source": [
    "By observing the upper tables, we can clearly see that our subjective judgements of word relavancy does not add up to the pre-trained word-embedding model judgements. For example, if look at the source word *'revolutionary'*, we can notice that the most similar word of all based on the WE model and cosine function calculations is *'revolution'*. To be honest, this was quite expected, because the words are syntactically and semantically very similar.<br><br>\n",
    "However, what is really interesting is that if we look at the word *'sculpture'*, we'll see that although word *'sculptor'* has the biggest relevancy, such words as *'statue'* and *'art'* appear to be almost as relevant. What this means, is that it is not so necessary for a word to be only syntactically close to the source word, but also semantically they need to refer to the similar disciplines. We can observe such behaviour in other source words as well."
   ]
  },
  {
   "cell_type": "markdown",
   "metadata": {},
   "source": [
    "### Calculating nearest neighbors"
   ]
  },
  {
   "cell_type": "markdown",
   "metadata": {},
   "source": [
    "- Overall Implementation -> Similarity Metrics -> Efficiency"
   ]
  },
  {
   "cell_type": "code",
   "execution_count": 161,
   "metadata": {},
   "outputs": [],
   "source": [
    "def knn(X, y, k: int):\n",
    "    \"\"\"\n",
    "        Calculate k nearest neighbors of the source word X\n",
    "        \n",
    "        Parameters:\n",
    "        \n",
    "            X: source word (vector)\n",
    "            y: word-embedding model GloVe (matrix)\n",
    "            k: number of nearest neighbors (integer)\n",
    "    \"\"\"\n",
    "    \n",
    "    res = {\n",
    "        \"cosine\": {\n",
    "            \"neighbors\": None,\n",
    "            \"similarity_scores\": None\n",
    "        },\n",
    "        \"dot\": {\n",
    "            \"neighbors\": None,\n",
    "            \"similarity_scores\": None\n",
    "        }\n",
    "    }\n",
    "    \n",
    "    # Metrics: Dot Product\n",
    "    # Efficient implementation\n",
    "    knn_dot_fit = y.dot(X).sort_values(ascending=False) \n",
    "    res[\"dot\"][\"neighbors\"] = np.array(knn_dot_fit.index[:k])\n",
    "    res[\"dot\"][\"similarity_scores\"] = np.array(knn_dot_fit[:k])\n",
    "    \n",
    "    # Metrics: Cosine\n",
    "    # Efficient implementation\n",
    "    knn_cosine_fit = (y.dot(X) / (np.linalg.norm(rev) * np.linalg.norm(y, axis=1))).sort_values(ascending=False)\n",
    "    res[\"cosine\"][\"neighbors\"] = np.array(knn_cosine_fit.index[:k])\n",
    "    res[\"cosine\"][\"similarity_scores\"] = np.array(knn_cosine_fit[:k])\n",
    "    \n",
    "    return res"
   ]
  },
  {
   "cell_type": "code",
   "execution_count": 168,
   "metadata": {},
   "outputs": [],
   "source": [
    "def run_knn(source_words, we, we_obj, knn_func, k=10):\n",
    "    neighbors_dot = []\n",
    "    neighbors_cosine = []\n",
    "    similarities_dot = []\n",
    "    similarities_cosine = []\n",
    "    \n",
    "    for word in source_words:\n",
    "        print(f\"{source_words.index(word) + 1}/{len(source_words)}\", end=\"\\r\")\n",
    "        we_value = we_obj[word]\n",
    "        knn_res = knn_func(we_value, we, k)\n",
    "        neighbors_dot.append(knn_res[\"dot\"][\"neighbors\"])\n",
    "        similarities_dot.append(knn_res[\"dot\"][\"similarity_scores\"])\n",
    "        neighbors_cosine.append(knn_res[\"cosine\"][\"neighbors\"])\n",
    "        similarities_cosine.append(knn_res[\"cosine\"][\"similarity_scores\"])\n",
    "        \n",
    "    df_dot_neighbors = pd.DataFrame(np.array(neighbors_dot).T, columns=source_words)\n",
    "    df_dot_similarities = pd.DataFrame(np.array(similarities_dot).T, columns=source_words)\n",
    "    df_cosine_neighbors = pd.DataFrame(np.array(neighbors_cosine).T, columns=source_words)\n",
    "    df_cosine_similarities = pd.DataFrame(np.array(similarities_cosine).T, columns=source_words)\n",
    "    \n",
    "    print(\"Done\")\n",
    "    \n",
    "    return (df_dot_neighbors, df_dot_similarities, df_cosine_neighbors, df_cosine_similarities)"
   ]
  },
  {
   "cell_type": "code",
   "execution_count": 169,
   "metadata": {},
   "outputs": [
    {
     "name": "stdout",
     "output_type": "stream",
     "text": [
      "Done\n"
     ]
    }
   ],
   "source": [
    "df1, df2, df3, df4 = run_knn(source_words, we, glove, knn)"
   ]
  },
  {
   "cell_type": "markdown",
   "metadata": {},
   "source": [
    "#### Result: Dot Metrics"
   ]
  },
  {
   "cell_type": "code",
   "execution_count": 170,
   "metadata": {},
   "outputs": [
    {
     "data": {
      "text/html": [
       "<div>\n",
       "<style scoped>\n",
       "    .dataframe tbody tr th:only-of-type {\n",
       "        vertical-align: middle;\n",
       "    }\n",
       "\n",
       "    .dataframe tbody tr th {\n",
       "        vertical-align: top;\n",
       "    }\n",
       "\n",
       "    .dataframe thead th {\n",
       "        text-align: right;\n",
       "    }\n",
       "</style>\n",
       "<table border=\"1\" class=\"dataframe\">\n",
       "  <thead>\n",
       "    <tr style=\"text-align: right;\">\n",
       "      <th></th>\n",
       "      <th>revolutionary</th>\n",
       "      <th>sculpture</th>\n",
       "      <th>vain</th>\n",
       "      <th>empirical</th>\n",
       "      <th>gravity</th>\n",
       "    </tr>\n",
       "  </thead>\n",
       "  <tbody>\n",
       "    <tr>\n",
       "      <th>0</th>\n",
       "      <td>revolutionary</td>\n",
       "      <td>sculpture</td>\n",
       "      <td>vain</td>\n",
       "      <td>empirical</td>\n",
       "      <td>gravity</td>\n",
       "    </tr>\n",
       "    <tr>\n",
       "      <th>1</th>\n",
       "      <td>revolution</td>\n",
       "      <td>sculptures</td>\n",
       "      <td>thou</td>\n",
       "      <td>methodological</td>\n",
       "      <td>gravitational</td>\n",
       "    </tr>\n",
       "    <tr>\n",
       "      <th>2</th>\n",
       "      <td>Revolutionary</td>\n",
       "      <td>paintings</td>\n",
       "      <td>thy</td>\n",
       "      <td>hypotheses</td>\n",
       "      <td>gravitation</td>\n",
       "    </tr>\n",
       "    <tr>\n",
       "      <th>3</th>\n",
       "      <td>radical</td>\n",
       "      <td>sculptor</td>\n",
       "      <td>foolish</td>\n",
       "      <td>theoretical</td>\n",
       "      <td>velocity</td>\n",
       "    </tr>\n",
       "    <tr>\n",
       "      <th>4</th>\n",
       "      <td>nationalist</td>\n",
       "      <td>sculptural</td>\n",
       "      <td>selfish</td>\n",
       "      <td>empirically</td>\n",
       "      <td>physics</td>\n",
       "    </tr>\n",
       "    <tr>\n",
       "      <th>5</th>\n",
       "      <td>socialist</td>\n",
       "      <td>Sculpture</td>\n",
       "      <td>hath</td>\n",
       "      <td>theories</td>\n",
       "      <td>spacetime</td>\n",
       "    </tr>\n",
       "    <tr>\n",
       "      <th>6</th>\n",
       "      <td>revolutionaries</td>\n",
       "      <td>statue</td>\n",
       "      <td>vainly</td>\n",
       "      <td>quantitative</td>\n",
       "      <td>relativity</td>\n",
       "    </tr>\n",
       "    <tr>\n",
       "      <th>7</th>\n",
       "      <td>communist</td>\n",
       "      <td>painting</td>\n",
       "      <td>shalt</td>\n",
       "      <td>hypothesis</td>\n",
       "      <td>particles</td>\n",
       "    </tr>\n",
       "    <tr>\n",
       "      <th>8</th>\n",
       "      <td>democratic</td>\n",
       "      <td>art</td>\n",
       "      <td>thee</td>\n",
       "      <td>statistical</td>\n",
       "      <td>particle</td>\n",
       "    </tr>\n",
       "    <tr>\n",
       "      <th>9</th>\n",
       "      <td>innovative</td>\n",
       "      <td>statues</td>\n",
       "      <td>unto</td>\n",
       "      <td>priori</td>\n",
       "      <td>buoyancy</td>\n",
       "    </tr>\n",
       "  </tbody>\n",
       "</table>\n",
       "</div>"
      ],
      "text/plain": [
       "     revolutionary   sculpture     vain       empirical        gravity\n",
       "0    revolutionary   sculpture     vain       empirical        gravity\n",
       "1       revolution  sculptures     thou  methodological  gravitational\n",
       "2    Revolutionary   paintings      thy      hypotheses    gravitation\n",
       "3          radical    sculptor  foolish     theoretical       velocity\n",
       "4      nationalist  sculptural  selfish     empirically        physics\n",
       "5        socialist   Sculpture     hath        theories      spacetime\n",
       "6  revolutionaries      statue   vainly    quantitative     relativity\n",
       "7        communist    painting    shalt      hypothesis      particles\n",
       "8       democratic         art     thee     statistical       particle\n",
       "9       innovative     statues     unto          priori       buoyancy"
      ]
     },
     "metadata": {},
     "output_type": "display_data"
    },
    {
     "data": {
      "text/html": [
       "<div>\n",
       "<style scoped>\n",
       "    .dataframe tbody tr th:only-of-type {\n",
       "        vertical-align: middle;\n",
       "    }\n",
       "\n",
       "    .dataframe tbody tr th {\n",
       "        vertical-align: top;\n",
       "    }\n",
       "\n",
       "    .dataframe thead th {\n",
       "        text-align: right;\n",
       "    }\n",
       "</style>\n",
       "<table border=\"1\" class=\"dataframe\">\n",
       "  <thead>\n",
       "    <tr style=\"text-align: right;\">\n",
       "      <th></th>\n",
       "      <th>revolutionary</th>\n",
       "      <th>sculpture</th>\n",
       "      <th>vain</th>\n",
       "      <th>empirical</th>\n",
       "      <th>gravity</th>\n",
       "    </tr>\n",
       "  </thead>\n",
       "  <tbody>\n",
       "    <tr>\n",
       "      <th>0</th>\n",
       "      <td>41.490395</td>\n",
       "      <td>47.064342</td>\n",
       "      <td>38.640817</td>\n",
       "      <td>44.380232</td>\n",
       "      <td>43.715272</td>\n",
       "    </tr>\n",
       "    <tr>\n",
       "      <th>1</th>\n",
       "      <td>28.905933</td>\n",
       "      <td>42.690819</td>\n",
       "      <td>31.599016</td>\n",
       "      <td>35.514223</td>\n",
       "      <td>36.992797</td>\n",
       "    </tr>\n",
       "    <tr>\n",
       "      <th>2</th>\n",
       "      <td>25.855969</td>\n",
       "      <td>35.829773</td>\n",
       "      <td>30.277969</td>\n",
       "      <td>34.838650</td>\n",
       "      <td>28.274142</td>\n",
       "    </tr>\n",
       "    <tr>\n",
       "      <th>3</th>\n",
       "      <td>25.632484</td>\n",
       "      <td>34.715104</td>\n",
       "      <td>27.328865</td>\n",
       "      <td>34.416410</td>\n",
       "      <td>27.083687</td>\n",
       "    </tr>\n",
       "    <tr>\n",
       "      <th>4</th>\n",
       "      <td>25.422375</td>\n",
       "      <td>34.372090</td>\n",
       "      <td>27.269783</td>\n",
       "      <td>34.106046</td>\n",
       "      <td>26.487572</td>\n",
       "    </tr>\n",
       "    <tr>\n",
       "      <th>5</th>\n",
       "      <td>25.046782</td>\n",
       "      <td>34.350716</td>\n",
       "      <td>27.045270</td>\n",
       "      <td>31.470060</td>\n",
       "      <td>25.226393</td>\n",
       "    </tr>\n",
       "    <tr>\n",
       "      <th>6</th>\n",
       "      <td>24.470764</td>\n",
       "      <td>33.112747</td>\n",
       "      <td>26.456196</td>\n",
       "      <td>31.195829</td>\n",
       "      <td>24.958760</td>\n",
       "    </tr>\n",
       "    <tr>\n",
       "      <th>7</th>\n",
       "      <td>23.854027</td>\n",
       "      <td>32.315453</td>\n",
       "      <td>26.109928</td>\n",
       "      <td>31.122196</td>\n",
       "      <td>24.711609</td>\n",
       "    </tr>\n",
       "    <tr>\n",
       "      <th>8</th>\n",
       "      <td>22.960954</td>\n",
       "      <td>32.281585</td>\n",
       "      <td>25.923115</td>\n",
       "      <td>30.969942</td>\n",
       "      <td>24.689587</td>\n",
       "    </tr>\n",
       "    <tr>\n",
       "      <th>9</th>\n",
       "      <td>22.880139</td>\n",
       "      <td>32.052252</td>\n",
       "      <td>25.842830</td>\n",
       "      <td>30.669617</td>\n",
       "      <td>24.354090</td>\n",
       "    </tr>\n",
       "  </tbody>\n",
       "</table>\n",
       "</div>"
      ],
      "text/plain": [
       "   revolutionary  sculpture       vain  empirical    gravity\n",
       "0      41.490395  47.064342  38.640817  44.380232  43.715272\n",
       "1      28.905933  42.690819  31.599016  35.514223  36.992797\n",
       "2      25.855969  35.829773  30.277969  34.838650  28.274142\n",
       "3      25.632484  34.715104  27.328865  34.416410  27.083687\n",
       "4      25.422375  34.372090  27.269783  34.106046  26.487572\n",
       "5      25.046782  34.350716  27.045270  31.470060  25.226393\n",
       "6      24.470764  33.112747  26.456196  31.195829  24.958760\n",
       "7      23.854027  32.315453  26.109928  31.122196  24.711609\n",
       "8      22.960954  32.281585  25.923115  30.969942  24.689587\n",
       "9      22.880139  32.052252  25.842830  30.669617  24.354090"
      ]
     },
     "metadata": {},
     "output_type": "display_data"
    }
   ],
   "source": [
    "display(df1)\n",
    "display(df2)"
   ]
  },
  {
   "cell_type": "markdown",
   "metadata": {},
   "source": [
    "#### Result: Cosine Metrics"
   ]
  },
  {
   "cell_type": "code",
   "execution_count": 171,
   "metadata": {},
   "outputs": [
    {
     "data": {
      "text/html": [
       "<div>\n",
       "<style scoped>\n",
       "    .dataframe tbody tr th:only-of-type {\n",
       "        vertical-align: middle;\n",
       "    }\n",
       "\n",
       "    .dataframe tbody tr th {\n",
       "        vertical-align: top;\n",
       "    }\n",
       "\n",
       "    .dataframe thead th {\n",
       "        text-align: right;\n",
       "    }\n",
       "</style>\n",
       "<table border=\"1\" class=\"dataframe\">\n",
       "  <thead>\n",
       "    <tr style=\"text-align: right;\">\n",
       "      <th></th>\n",
       "      <th>revolutionary</th>\n",
       "      <th>sculpture</th>\n",
       "      <th>vain</th>\n",
       "      <th>empirical</th>\n",
       "      <th>gravity</th>\n",
       "    </tr>\n",
       "  </thead>\n",
       "  <tbody>\n",
       "    <tr>\n",
       "      <th>0</th>\n",
       "      <td>revolutionary</td>\n",
       "      <td>sculpture</td>\n",
       "      <td>vain</td>\n",
       "      <td>empirical</td>\n",
       "      <td>gravity</td>\n",
       "    </tr>\n",
       "    <tr>\n",
       "      <th>1</th>\n",
       "      <td>revolution</td>\n",
       "      <td>sculptures</td>\n",
       "      <td>foolish</td>\n",
       "      <td>theoretical</td>\n",
       "      <td>gravitational</td>\n",
       "    </tr>\n",
       "    <tr>\n",
       "      <th>2</th>\n",
       "      <td>Revolutionary</td>\n",
       "      <td>sculptural</td>\n",
       "      <td>futile</td>\n",
       "      <td>empirically</td>\n",
       "      <td>Gravity</td>\n",
       "    </tr>\n",
       "    <tr>\n",
       "      <th>3</th>\n",
       "      <td>breakthrough</td>\n",
       "      <td>Sculpture</td>\n",
       "      <td>vainly</td>\n",
       "      <td>methodological</td>\n",
       "      <td>gravitation</td>\n",
       "    </tr>\n",
       "    <tr>\n",
       "      <th>4</th>\n",
       "      <td>radical</td>\n",
       "      <td>sculptor</td>\n",
       "      <td>selfish</td>\n",
       "      <td>hypotheses</td>\n",
       "      <td>velocity</td>\n",
       "    </tr>\n",
       "    <tr>\n",
       "      <th>5</th>\n",
       "      <td>innovative</td>\n",
       "      <td>paintings</td>\n",
       "      <td>lest</td>\n",
       "      <td>qualitative</td>\n",
       "      <td>inertia</td>\n",
       "    </tr>\n",
       "    <tr>\n",
       "      <th>6</th>\n",
       "      <td>revolutionaries</td>\n",
       "      <td>art</td>\n",
       "      <td>fruitless</td>\n",
       "      <td>hypothesis</td>\n",
       "      <td>physics</td>\n",
       "    </tr>\n",
       "    <tr>\n",
       "      <th>7</th>\n",
       "      <td>Revolution</td>\n",
       "      <td>statue</td>\n",
       "      <td>thou</td>\n",
       "      <td>methodology</td>\n",
       "      <td>relativity</td>\n",
       "    </tr>\n",
       "    <tr>\n",
       "      <th>8</th>\n",
       "      <td>innovations</td>\n",
       "      <td>painting</td>\n",
       "      <td>feeble</td>\n",
       "      <td>conclusions</td>\n",
       "      <td>buoyancy</td>\n",
       "    </tr>\n",
       "    <tr>\n",
       "      <th>9</th>\n",
       "      <td>pioneering</td>\n",
       "      <td>statues</td>\n",
       "      <td>fool</td>\n",
       "      <td>statistical</td>\n",
       "      <td>orbit</td>\n",
       "    </tr>\n",
       "  </tbody>\n",
       "</table>\n",
       "</div>"
      ],
      "text/plain": [
       "     revolutionary   sculpture       vain       empirical        gravity\n",
       "0    revolutionary   sculpture       vain       empirical        gravity\n",
       "1       revolution  sculptures    foolish     theoretical  gravitational\n",
       "2    Revolutionary  sculptural     futile     empirically        Gravity\n",
       "3     breakthrough   Sculpture     vainly  methodological    gravitation\n",
       "4          radical    sculptor    selfish      hypotheses       velocity\n",
       "5       innovative   paintings       lest     qualitative        inertia\n",
       "6  revolutionaries         art  fruitless      hypothesis        physics\n",
       "7       Revolution      statue       thou     methodology     relativity\n",
       "8      innovations    painting     feeble     conclusions       buoyancy\n",
       "9       pioneering     statues       fool     statistical          orbit"
      ]
     },
     "metadata": {},
     "output_type": "display_data"
    },
    {
     "data": {
      "text/html": [
       "<div>\n",
       "<style scoped>\n",
       "    .dataframe tbody tr th:only-of-type {\n",
       "        vertical-align: middle;\n",
       "    }\n",
       "\n",
       "    .dataframe tbody tr th {\n",
       "        vertical-align: top;\n",
       "    }\n",
       "\n",
       "    .dataframe thead th {\n",
       "        text-align: right;\n",
       "    }\n",
       "</style>\n",
       "<table border=\"1\" class=\"dataframe\">\n",
       "  <thead>\n",
       "    <tr style=\"text-align: right;\">\n",
       "      <th></th>\n",
       "      <th>revolutionary</th>\n",
       "      <th>sculpture</th>\n",
       "      <th>vain</th>\n",
       "      <th>empirical</th>\n",
       "      <th>gravity</th>\n",
       "    </tr>\n",
       "  </thead>\n",
       "  <tbody>\n",
       "    <tr>\n",
       "      <th>0</th>\n",
       "      <td>1.000000</td>\n",
       "      <td>1.065055</td>\n",
       "      <td>0.965049</td>\n",
       "      <td>1.034239</td>\n",
       "      <td>1.026462</td>\n",
       "    </tr>\n",
       "    <tr>\n",
       "      <th>1</th>\n",
       "      <td>0.706289</td>\n",
       "      <td>0.939730</td>\n",
       "      <td>0.690894</td>\n",
       "      <td>0.808745</td>\n",
       "      <td>0.737327</td>\n",
       "    </tr>\n",
       "    <tr>\n",
       "      <th>2</th>\n",
       "      <td>0.630008</td>\n",
       "      <td>0.788453</td>\n",
       "      <td>0.668207</td>\n",
       "      <td>0.781278</td>\n",
       "      <td>0.630584</td>\n",
       "    </tr>\n",
       "    <tr>\n",
       "      <th>3</th>\n",
       "      <td>0.589621</td>\n",
       "      <td>0.781306</td>\n",
       "      <td>0.635741</td>\n",
       "      <td>0.779248</td>\n",
       "      <td>0.611397</td>\n",
       "    </tr>\n",
       "    <tr>\n",
       "      <th>4</th>\n",
       "      <td>0.566132</td>\n",
       "      <td>0.760820</td>\n",
       "      <td>0.592955</td>\n",
       "      <td>0.772642</td>\n",
       "      <td>0.588408</td>\n",
       "    </tr>\n",
       "    <tr>\n",
       "      <th>5</th>\n",
       "      <td>0.563706</td>\n",
       "      <td>0.760680</td>\n",
       "      <td>0.590080</td>\n",
       "      <td>0.742296</td>\n",
       "      <td>0.560019</td>\n",
       "    </tr>\n",
       "    <tr>\n",
       "      <th>6</th>\n",
       "      <td>0.555454</td>\n",
       "      <td>0.751778</td>\n",
       "      <td>0.583374</td>\n",
       "      <td>0.723596</td>\n",
       "      <td>0.551071</td>\n",
       "    </tr>\n",
       "    <tr>\n",
       "      <th>7</th>\n",
       "      <td>0.554923</td>\n",
       "      <td>0.741428</td>\n",
       "      <td>0.578737</td>\n",
       "      <td>0.711271</td>\n",
       "      <td>0.550793</td>\n",
       "    </tr>\n",
       "    <tr>\n",
       "      <th>8</th>\n",
       "      <td>0.528364</td>\n",
       "      <td>0.734361</td>\n",
       "      <td>0.571537</td>\n",
       "      <td>0.708191</td>\n",
       "      <td>0.536534</td>\n",
       "    </tr>\n",
       "    <tr>\n",
       "      <th>9</th>\n",
       "      <td>0.527443</td>\n",
       "      <td>0.701818</td>\n",
       "      <td>0.559687</td>\n",
       "      <td>0.704583</td>\n",
       "      <td>0.530855</td>\n",
       "    </tr>\n",
       "  </tbody>\n",
       "</table>\n",
       "</div>"
      ],
      "text/plain": [
       "   revolutionary  sculpture      vain  empirical   gravity\n",
       "0       1.000000   1.065055  0.965049   1.034239  1.026462\n",
       "1       0.706289   0.939730  0.690894   0.808745  0.737327\n",
       "2       0.630008   0.788453  0.668207   0.781278  0.630584\n",
       "3       0.589621   0.781306  0.635741   0.779248  0.611397\n",
       "4       0.566132   0.760820  0.592955   0.772642  0.588408\n",
       "5       0.563706   0.760680  0.590080   0.742296  0.560019\n",
       "6       0.555454   0.751778  0.583374   0.723596  0.551071\n",
       "7       0.554923   0.741428  0.578737   0.711271  0.550793\n",
       "8       0.528364   0.734361  0.571537   0.708191  0.536534\n",
       "9       0.527443   0.701818  0.559687   0.704583  0.530855"
      ]
     },
     "metadata": {},
     "output_type": "display_data"
    }
   ],
   "source": [
    "display(df3)\n",
    "display(df4)"
   ]
  },
  {
   "cell_type": "markdown",
   "metadata": {},
   "source": [
    "#### Report"
   ]
  },
  {
   "cell_type": "markdown",
   "metadata": {},
   "source": [
    "When looking at the nearest neighbors of the source words by using the dot or cosine metrics, we can notice that they seem to share a lot of similar words. But still, some of them differ due to the fact that we normalize the dot product in cosine metrics, which accordingly results in different calculation values.\n",
    "\n",
    "Personally, the cosine metrics seems to be more easier to comprehend, because it's boundaries are visible. If the calculation result is close to 1, then syntactically and semantically the two words resemble each other at great degree. When looking at the dot product table of similarity values, it's much harder to observe how closely connected the two words are, due to absense of boundaries."
   ]
  },
  {
   "cell_type": "markdown",
   "metadata": {},
   "source": [
    "<a name=\"section-taskB\"></a><h2 style=\"color:rgb(0,120,170)\">2. Document Classification with WE</h2>"
   ]
  },
  {
   "cell_type": "markdown",
   "metadata": {},
   "source": [
    "### Create a Dictionary (Taken from Assignment 1)"
   ]
  },
  {
   "cell_type": "code",
   "execution_count": 292,
   "metadata": {},
   "outputs": [],
   "source": [
    "train = pd.read_csv('./thedeep.subset.train.txt', header=None)\n",
    "test = pd.read_csv('./thedeep.subset.test.txt', header=None)\n",
    "validation = pd.read_csv('./thedeep.subset.validation.txt', header=None)\n",
    "\n",
    "train_corpus, y_train = train.iloc[:, 1].values, train.iloc[:, 2].values\n",
    "test_corpus, y_test = test.iloc[:, 1].values, test.iloc[:, 2].values\n",
    "validation_corpus, y_validation = test.iloc[:, 1].values, test.iloc[:, 2].values\n",
    "\n",
    "def preprocess_data(corpus):\n",
    "    texts = []\n",
    "    \n",
    "    tokenizer = RegexpTokenizer(r'\\w+')\n",
    "    stop = set(stopwords.words('english'))\n",
    "    porter_stemmer = PorterStemmer()\n",
    "\n",
    "    for document in corpus:\n",
    "        raw = document.lower()\n",
    "        tokens = tokenizer.tokenize(raw)\n",
    "        stopped_tokens = [i for i in tokens if not i in stop]\n",
    "        stemmed_tokens = [porter_stemmer.stem(i) for i in stopped_tokens]\n",
    "        texts.append(stemmed_tokens)\n",
    "        \n",
    "    return texts\n",
    "\n",
    "train_tokenized = preprocess_data(train_corpus)\n",
    "test_tokenized = preprocess_data(test_corpus)\n",
    "validation_tokenized = preprocess_data(validation_corpus)\n",
    "\n",
    "def dic_of_voc(data):\n",
    "    dictionary = Counter()\n",
    "    \n",
    "    for document in data:\n",
    "        dictionary.update(document)\n",
    "    \n",
    "    dictionary = dict(dictionary)\n",
    "    return dictionary\n",
    "\n",
    "train_dictionary = dic_of_voc(train_tokenized)\n",
    "test_dictionary = dic_of_voc(test_tokenized)\n",
    "validation_dictionary = dic_of_voc(validation_tokenized)"
   ]
  },
  {
   "cell_type": "markdown",
   "metadata": {},
   "source": [
    "### Map word embeddings to dictionary words"
   ]
  },
  {
   "cell_type": "code",
   "execution_count": 293,
   "metadata": {},
   "outputs": [],
   "source": [
    "def map_we_to_dict(dictionary, we_model):\n",
    "    mapping = {}\n",
    "    \n",
    "    for word in dictionary.keys():\n",
    "        try:\n",
    "            mapping[word] = we_model[word]\n",
    "        except KeyError:\n",
    "            mapping[word] = np.random.rand(300)\n",
    "    \n",
    "    return mapping"
   ]
  },
  {
   "cell_type": "code",
   "execution_count": 294,
   "metadata": {},
   "outputs": [],
   "source": [
    "train_word_embedding = map_we_to_dict(train_dictionary, glove)\n",
    "test_word_embedding = map_we_to_dict(test_dictionary, glove)\n",
    "validation_word_embedding = map_we_to_dict(validation_dictionary, glove)"
   ]
  },
  {
   "cell_type": "markdown",
   "metadata": {},
   "source": [
    "### Document embedding as the average of word embeddings"
   ]
  },
  {
   "cell_type": "code",
   "execution_count": 295,
   "metadata": {},
   "outputs": [],
   "source": [
    "def document_embedding(corpus, word_embedding):\n",
    "    embedding = []\n",
    "    \n",
    "    for document in corpus:\n",
    "        document_embeddings = []\n",
    "        for word in document:\n",
    "            document_embeddings.append(word_embedding[word])\n",
    "        \n",
    "        document_embeddings = np.array(document_embeddings)\n",
    "        summation = np.sum(document_embeddings, axis=0)\n",
    "        embedding.append(summation / abs(len(document)))\n",
    "    \n",
    "    return np.array(embedding)"
   ]
  },
  {
   "cell_type": "markdown",
   "metadata": {},
   "source": [
    "### Classification and evaluation"
   ]
  },
  {
   "cell_type": "code",
   "execution_count": 296,
   "metadata": {},
   "outputs": [],
   "source": [
    "X_train = document_embedding(train_tokenized, train_word_embedding)\n",
    "X_test = document_embedding(test_tokenized, test_word_embedding)\n",
    "X_validation = document_embedding(validation_tokenized, validation_word_embedding)"
   ]
  },
  {
   "cell_type": "markdown",
   "metadata": {},
   "source": [
    "- Logistic Regression"
   ]
  },
  {
   "cell_type": "code",
   "execution_count": 322,
   "metadata": {},
   "outputs": [],
   "source": [
    "def run_LogReg(X_train, y_train, X_test, y_test, solvers):\n",
    "    accuracies = []\n",
    "    \n",
    "    for solve in solvers:\n",
    "        clf = LogisticRegression(random_state=16, max_iter=10000, solver=solve)\n",
    "        clf.fit(X_train, y_train)\n",
    "        y_pred = clf.predict(X_test)\n",
    "        accuracy = metrics.accuracy_score(y_test, y_pred)\n",
    "        accuracies.append(accuracy)\n",
    "        print(f\"Solver: {solve}\")\n",
    "        print(f\"Accuracy: {accuracy}\\n\")\n",
    "\n",
    "    return accuracies"
   ]
  },
  {
   "cell_type": "code",
   "execution_count": 323,
   "metadata": {},
   "outputs": [
    {
     "name": "stdout",
     "output_type": "stream",
     "text": [
      "Solver: newton-cg\n",
      "Accuracy: 0.7761078998073218\n",
      "\n",
      "Solver: lbfgs\n",
      "Accuracy: 0.7761078998073218\n",
      "\n",
      "Solver: liblinear\n",
      "Accuracy: 0.7730250481695569\n",
      "\n",
      "Solver: sag\n",
      "Accuracy: 0.7761078998073218\n",
      "\n",
      "Solver: saga\n",
      "Accuracy: 0.7761078998073218\n",
      "\n"
     ]
    }
   ],
   "source": [
    "solvers = ['newton-cg', 'lbfgs', 'liblinear', 'sag', 'saga']\n",
    "accuracies = run_LogReg(X_train, y_train, X_test, y_test, solvers)"
   ]
  },
  {
   "cell_type": "code",
   "execution_count": 324,
   "metadata": {},
   "outputs": [
    {
     "data": {
      "image/png": "[encoded data removed]",
      "text/plain": [
       "<Figure size 640x480 with 1 Axes>"
      ]
     },
     "metadata": {},
     "output_type": "display_data"
    }
   ],
   "source": [
    "plt.scatter(solvers, accuracies)\n",
    "plt.xlabel(\"Solver\")\n",
    "plt.ylabel(\"Accuracy\")\n",
    "plt.title(\"Logistic Regression\")\n",
    "plt.show()"
   ]
  },
  {
   "cell_type": "markdown",
   "metadata": {},
   "source": [
    "- Support Vector Machines"
   ]
  },
  {
   "cell_type": "code",
   "execution_count": 313,
   "metadata": {},
   "outputs": [],
   "source": [
    "def run_SVM(X_train, y_train, X_test, y_test, gamma_range=[1], kernel=\"rbf\"): \n",
    "    accuracies = []\n",
    "    for gamma in gamma_range:\n",
    "        print(f\"Gamma = {gamma}\")\n",
    "        clf = SVC(C=gamma, kernel=kernel)\n",
    "        clf.fit(X_train, y_train)\n",
    "        y_pred = clf.predict(X_test)\n",
    "        accuracy = metrics.accuracy_score(y_test, y_pred)\n",
    "        accuracies.append(accuracy)\n",
    "        print(f\"Accuracy: {accuracy}\\n\")\n",
    "    \n",
    "    return accuracies"
   ]
  },
  {
   "cell_type": "code",
   "execution_count": 314,
   "metadata": {},
   "outputs": [
    {
     "name": "stdout",
     "output_type": "stream",
     "text": [
      "Gamma = 0.1\n",
      "Accuracy: 0.7052023121387283\n",
      "\n",
      "Gamma = 1\n",
      "Accuracy: 0.7757225433526012\n",
      "\n",
      "Gamma = 10\n",
      "Accuracy: 0.7822736030828517\n",
      "\n",
      "Gamma = 100\n",
      "Accuracy: 0.7572254335260116\n",
      "\n",
      "Gamma = 1000\n",
      "Accuracy: 0.7564547206165704\n",
      "\n"
     ]
    }
   ],
   "source": [
    "gamma_range = [0.1, 1, 10, 100, 1000]\n",
    "accuracies = run_SVM(X_train, y_train, X_test, y_test, gamma_range)"
   ]
  },
  {
   "cell_type": "code",
   "execution_count": 315,
   "metadata": {},
   "outputs": [
    {
     "data": {
      "image/png": "[encoded data removed]",
      "text/plain": [
       "<Figure size 640x480 with 1 Axes>"
      ]
     },
     "metadata": {},
     "output_type": "display_data"
    }
   ],
   "source": [
    "plt.scatter([str(gamma) for gamma in gamma_range], accuracies)\n",
    "plt.xlabel(\"Gamma\")\n",
    "plt.ylabel(\"Accuracy\")\n",
    "plt.title(\"SVM\")\n",
    "plt.show()"
   ]
  },
  {
   "cell_type": "markdown",
   "metadata": {},
   "source": [
    "- K-nearest neighbor"
   ]
  },
  {
   "cell_type": "code",
   "execution_count": 347,
   "metadata": {},
   "outputs": [],
   "source": [
    "def run_KNN(X_train, y_train, X_test, y_test, k_range): \n",
    "    accuracies = []\n",
    "    \n",
    "    for k in range(1, k_range + 1, 2):\n",
    "        print(f'k = {k}', end=\"\\r\")\n",
    "        knn = KNeighborsClassifier(n_neighbors=k)\n",
    "        knn.fit(X_train, y_train)\n",
    "        y_pred = knn.predict(X_test)\n",
    "        accuracy = metrics.accuracy_score(y_test, y_pred)\n",
    "        accuracies.append(accuracy)\n",
    "    \n",
    "    return accuracies"
   ]
  },
  {
   "cell_type": "code",
   "execution_count": 348,
   "metadata": {},
   "outputs": [
    {
     "name": "stdout",
     "output_type": "stream",
     "text": [
      "k = 49\r"
     ]
    }
   ],
   "source": [
    "k = 50\n",
    "accuracies = run_KNN(X_train, y_train, X_test, y_test, k_range=k)"
   ]
  },
  {
   "cell_type": "code",
   "execution_count": 349,
   "metadata": {},
   "outputs": [
    {
     "data": {
      "image/png": "[encoded data removed]",
      "text/plain": [
       "<Figure size 640x480 with 1 Axes>"
      ]
     },
     "metadata": {},
     "output_type": "display_data"
    }
   ],
   "source": [
    "x = np.array(list(range(1, k + 1, 2)), dtype=np.int8)\n",
    "\n",
    "plt.scatter(x, accuracies)\n",
    "plt.title(\"KNN\")\n",
    "plt.xlabel(\"k\")\n",
    "plt.ylabel(\"accuracy\")\n",
    "plt.show()"
   ]
  },
  {
   "cell_type": "code",
   "execution_count": 350,
   "metadata": {},
   "outputs": [
    {
     "name": "stdout",
     "output_type": "stream",
     "text": [
      "Highest accuracy (knn): 0.6832369942196532\n"
     ]
    }
   ],
   "source": [
    "print(f\"Highest accuracy (knn): {max(accuracies)}\")"
   ]
  },
  {
   "cell_type": "markdown",
   "metadata": {},
   "source": [
    "### Report"
   ]
  },
  {
   "cell_type": "markdown",
   "metadata": {},
   "source": [
    "As we can see, the model with the highest accuracy on our data is a Support Vector Machine. All of the models performed relatively on the same level. The model with the least performance is K-Nearest Neighbor Classifier. Logistic Regression and Support Vector Machines performed well and almost on the same level.<br><br>\n",
    "\n",
    "Best Model Accuracy: **SVM** with **GAMMA=10**"
   ]
  }
 ],
 "metadata": {
  "kernelspec": {
   "display_name": "Python 3 (ipykernel)",
   "language": "python",
   "name": "python3"
  },
  "language_info": {
   "codemirror_mode": {
    "name": "ipython",
    "version": 3
   },
   "file_extension": ".py",
   "mimetype": "text/x-python",
   "name": "python",
   "nbconvert_exporter": "python",
   "pygments_lexer": "ipython3",
   "version": "3.10.6"
  }
 },
 "nbformat": 4,
 "nbformat_minor": 4
}
